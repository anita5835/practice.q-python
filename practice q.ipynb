{
 "cells": [
  {
   "cell_type": "code",
   "execution_count": 5,
   "id": "b6f1eb6e-407c-4809-8226-8e2bfd6dc458",
   "metadata": {},
   "outputs": [
    {
     "name": "stdout",
     "output_type": "stream",
     "text": [
      "e\n",
      "g\n",
      "g\n",
      "e\n"
     ]
    }
   ],
   "source": [
    "s=\"egg\"\n",
    "a=\"add\"\n",
    "for i in s:\n",
    " print(i)\n",
    "print(s[0])"
   ]
  },
  {
   "cell_type": "code",
   "execution_count": 2,
   "id": "e95a371b-801b-489a-8212-124473aa3d3f",
   "metadata": {},
   "outputs": [
    {
     "data": {
      "text/plain": [
       "'\\nan the hello\\nhs id the kaj ksh\\n'"
      ]
     },
     "execution_count": 2,
     "metadata": {},
     "output_type": "execute_result"
    }
   ],
   "source": [
    "#print(\"hello\")\n",
    "'''\n",
    "an the hello\n",
    "hs id the kaj ksh\n",
    "'''"
   ]
  },
  {
   "cell_type": "code",
   "execution_count": null,
   "id": "99338ae0-08a4-4734-9de2-12bdc86626d5",
   "metadata": {},
   "outputs": [],
   "source": [
    "s=\"egg\"\n",
    "a=\"add\"\n",
    "my_dict={}\n",
    "for i in range(0,len(s)):\n",
    "    if s[i] in my_dict and my_dict[s[i]]!=t[i]:\n",
    "        print(\"Not isomorphic\")\n",
    "    else:\n",
    "        "
   ]
  },
  {
   "cell_type": "code",
   "execution_count": 14,
   "id": "c2d4bfc6-82f2-48f5-84e4-4bbfbd1aea6b",
   "metadata": {},
   "outputs": [
    {
     "name": "stdout",
     "output_type": "stream",
     "text": [
      "2\n"
     ]
    }
   ],
   "source": [
    "# Q Longest Substring Length of K\n",
    "# Input : test_str = ‘abcaaaacbbaa’, K = b \n",
    "# Output : 2 \n",
    "# Explanation : b occurs twice, 2 > 1\n",
    "s=\"abcaaaacbbaa\"\n",
    "k='b'\n",
    "current_count=0\n",
    "max_count=0\n",
    "for i in s:\n",
    "    if i == k:\n",
    "     current_count+=1\n",
    "     if current_count>max_count:\n",
    "            max_count=current_count\n",
    "    else:\n",
    "        current_count=0\n",
    "print(max_count)"
   ]
  },
  {
   "cell_type": "code",
   "execution_count": 10,
   "id": "80aa15dc-59da-43e4-b2ff-3daff5cebdf1",
   "metadata": {},
   "outputs": [
    {
     "name": "stdout",
     "output_type": "stream",
     "text": [
      "3\n"
     ]
    }
   ],
   "source": [
    "\n",
    "# Input : test_str = ‘abcaacccbbaa’, K = c \n",
    "# Output : 3 \n",
    "# Explanation : Maximum times c occurs is 3.\n",
    "input='abcaacccbbaa'\n",
    "k='c'\n",
    "current_count=0\n",
    "max_count=0\n",
    "for i in input:\n",
    "    if i ==k:\n",
    "        current_count+=1\n",
    "        if current_count>max_count:\n",
    "            max_count=current_count\n",
    "    else:\n",
    "        current_count=0\n",
    "print(max_count)"
   ]
  }
 ],
 "metadata": {
  "kernelspec": {
   "display_name": "Python 3 (ipykernel)",
   "language": "python",
   "name": "python3"
  },
  "language_info": {
   "codemirror_mode": {
    "name": "ipython",
    "version": 3
   },
   "file_extension": ".py",
   "mimetype": "text/x-python",
   "name": "python",
   "nbconvert_exporter": "python",
   "pygments_lexer": "ipython3",
   "version": "3.13.0"
  }
 },
 "nbformat": 4,
 "nbformat_minor": 5
}
